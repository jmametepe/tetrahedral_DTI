{
 "cells": [
  {
   "cell_type": "code",
   "execution_count": 2,
   "metadata": {},
   "outputs": [],
   "source": [
    "import pandas as pd\n",
    "import numpy as np\n",
    "Inputs = pd.read_csv('4din.csv')\n",
    "\n",
    "Outputs = pd.read_csv('vecs.csv')\n",
    "nInputs = pd.read_csv('n4din.csv')\n",
    "#FA = pd.read_csv('4dFA.csv')"
   ]
  },
  {
   "cell_type": "code",
   "execution_count": 3,
   "metadata": {},
   "outputs": [
    {
     "data": {
      "text/plain": [
       "['vecscaler.gz']"
      ]
     },
     "execution_count": 3,
     "metadata": {},
     "output_type": "execute_result"
    }
   ],
   "source": [
    "from sklearn.preprocessing import StandardScaler\n",
    "import joblib \n",
    "\n",
    "\n",
    "scaler = StandardScaler()\n",
    "\n",
    "\n",
    "\n",
    "x_train = scaler.fit_transform(Inputs)\n",
    "#x_test = scaler.transform(TestInputs)\n",
    "joblib.dump(scaler, 'vecscaler.gz') "
   ]
  },
  {
   "cell_type": "code",
   "execution_count": 4,
   "metadata": {},
   "outputs": [
    {
     "name": "stdout",
     "output_type": "stream",
     "text": [
      "WARNING:tensorflow:From c:\\Users\\c22116156\\AppData\\Local\\Programs\\Python\\Python311\\Lib\\site-packages\\keras\\src\\losses.py:2976: The name tf.losses.sparse_softmax_cross_entropy is deprecated. Please use tf.compat.v1.losses.sparse_softmax_cross_entropy instead.\n",
      "\n",
      "WARNING:tensorflow:From c:\\Users\\c22116156\\AppData\\Local\\Programs\\Python\\Python311\\Lib\\site-packages\\keras\\src\\backend.py:873: The name tf.get_default_graph is deprecated. Please use tf.compat.v1.get_default_graph instead.\n",
      "\n",
      "WARNING:tensorflow:From c:\\Users\\c22116156\\AppData\\Local\\Programs\\Python\\Python311\\Lib\\site-packages\\keras\\src\\optimizers\\__init__.py:309: The name tf.train.Optimizer is deprecated. Please use tf.compat.v1.train.Optimizer instead.\n",
      "\n"
     ]
    }
   ],
   "source": [
    "import tensorflow as tf\n",
    "\n",
    "def cosine_distance(y_true, y_pred):\n",
    "    y_true = tf.nn.l2_normalize(y_true, axis=-1)\n",
    "    y_pred = tf.nn.l2_normalize(y_pred, axis=-1)\n",
    "    return 1 - tf.abs(tf.reduce_sum(y_true * y_pred, axis=-1))\n",
    "\n",
    "model = tf.keras.models.Sequential([\n",
    "    tf.keras.layers.Dense(64, activation='relu', input_shape=(12,)),  # 12 input features, 4 vectors each with x, y, z\n",
    "    tf.keras.layers.Dense(64, activation='relu'),\n",
    "    tf.keras.layers.Dense(64, activation='tanh'),\n",
    "    tf.keras.layers.Dense(3)  # 3 output features, theta and phi, x y z\n",
    "])\n",
    "\n",
    "model.compile(optimizer='adam', loss=cosine_distance)"
   ]
  },
  {
   "cell_type": "code",
   "execution_count": 5,
   "metadata": {},
   "outputs": [
    {
     "data": {
      "image/png": "[encoded data removed]",
      "text/plain": [
       "<IPython.core.display.Image object>"
      ]
     },
     "execution_count": 5,
     "metadata": {},
     "output_type": "execute_result"
    }
   ],
   "source": [
    "from tensorflow.keras.utils import plot_model\n",
    "plot_model(model, to_file='model_structure.png', show_shapes=True, show_layer_names=True)"
   ]
  },
  {
   "cell_type": "code",
   "execution_count": 6,
   "metadata": {},
   "outputs": [
    {
     "name": "stdout",
     "output_type": "stream",
     "text": [
      "Epoch 1/16\n",
      "WARNING:tensorflow:From c:\\Users\\c22116156\\AppData\\Local\\Programs\\Python\\Python311\\Lib\\site-packages\\keras\\src\\utils\\tf_utils.py:492: The name tf.ragged.RaggedTensorValue is deprecated. Please use tf.compat.v1.ragged.RaggedTensorValue instead.\n",
      "\n",
      "437500/437500 [==============================] - 869s 2ms/step - loss: 0.0710\n",
      "Epoch 2/16\n",
      "437500/437500 [==============================] - 765s 2ms/step - loss: 0.0552\n",
      "Epoch 3/16\n",
      "437500/437500 [==============================] - 735s 2ms/step - loss: 0.0514\n",
      "Epoch 4/16\n",
      "437500/437500 [==============================] - 696s 2ms/step - loss: 0.0492\n",
      "Epoch 5/16\n",
      "437500/437500 [==============================] - 699s 2ms/step - loss: 0.0486\n",
      "Epoch 6/16\n",
      "437500/437500 [==============================] - 703s 2ms/step - loss: 0.0471\n",
      "Epoch 7/16\n",
      "437500/437500 [==============================] - 697s 2ms/step - loss: 0.0455\n",
      "Epoch 8/16\n",
      "437500/437500 [==============================] - 707s 2ms/step - loss: 0.0454\n",
      "Epoch 9/16\n",
      "437500/437500 [==============================] - 678s 2ms/step - loss: 0.0447\n",
      "Epoch 10/16\n",
      "437500/437500 [==============================] - 675s 2ms/step - loss: 0.0448\n",
      "Epoch 11/16\n",
      "437500/437500 [==============================] - 677s 2ms/step - loss: 0.0449\n",
      "Epoch 12/16\n",
      "437500/437500 [==============================] - 679s 2ms/step - loss: 0.0440\n",
      "Epoch 13/16\n",
      "437500/437500 [==============================] - 674s 2ms/step - loss: 0.0445\n",
      "Epoch 14/16\n",
      "437500/437500 [==============================] - 711s 2ms/step - loss: 0.0435\n",
      "Epoch 15/16\n",
      "437500/437500 [==============================] - 681s 2ms/step - loss: 0.0438\n",
      "Epoch 16/16\n",
      "437500/437500 [==============================] - 852s 2ms/step - loss: 0.0442\n"
     ]
    },
    {
     "name": "stderr",
     "output_type": "stream",
     "text": [
      "c:\\Users\\c22116156\\AppData\\Local\\Programs\\Python\\Python311\\Lib\\site-packages\\keras\\src\\engine\\training.py:3103: UserWarning: You are saving your model as an HDF5 file via `model.save()`. This file format is considered legacy. We recommend using instead the native Keras format, e.g. `model.save('my_model.keras')`.\n",
      "  saving_api.save_model(\n"
     ]
    }
   ],
   "source": [
    "history = model.fit(x_train, Outputs, epochs=16)\n",
    "model.save('vecmodel.h5')"
   ]
  },
  {
   "cell_type": "code",
   "execution_count": 7,
   "metadata": {},
   "outputs": [],
   "source": [
    "model.save('vecmodel.keras')"
   ]
  }
 ],
 "metadata": {
  "kernelspec": {
   "display_name": "Python 3",
   "language": "python",
   "name": "python3"
  },
  "language_info": {
   "codemirror_mode": {
    "name": "ipython",
    "version": 3
   },
   "file_extension": ".py",
   "mimetype": "text/x-python",
   "name": "python",
   "nbconvert_exporter": "python",
   "pygments_lexer": "ipython3",
   "version": "3.11.2"
  }
 },
 "nbformat": 4,
 "nbformat_minor": 2
}
